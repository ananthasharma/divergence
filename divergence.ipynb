{
 "cells": [
  {
   "cell_type": "code",
   "execution_count": 1,
   "metadata": {},
   "outputs": [
    {
     "name": "stdout",
     "output_type": "stream",
     "text": [
      "Python 3.12.1\n"
     ]
    }
   ],
   "source": [
    "!python -V"
   ]
  },
  {
   "cell_type": "code",
   "execution_count": 2,
   "metadata": {},
   "outputs": [
    {
     "name": "stdout",
     "output_type": "stream",
     "text": [
      "Requirement already satisfied: matplotlib==3.10.0 in ./.venv/lib/python3.12/site-packages (from -r requirements.txt (line 1)) (3.10.0)\n",
      "Requirement already satisfied: pandas==2.2.3 in ./.venv/lib/python3.12/site-packages (from -r requirements.txt (line 2)) (2.2.3)\n",
      "Requirement already satisfied: scipy==1.15.0 in ./.venv/lib/python3.12/site-packages (from -r requirements.txt (line 3)) (1.15.0)\n",
      "Requirement already satisfied: contourpy>=1.0.1 in ./.venv/lib/python3.12/site-packages (from matplotlib==3.10.0->-r requirements.txt (line 1)) (1.3.1)\n",
      "Requirement already satisfied: cycler>=0.10 in ./.venv/lib/python3.12/site-packages (from matplotlib==3.10.0->-r requirements.txt (line 1)) (0.12.1)\n",
      "Requirement already satisfied: fonttools>=4.22.0 in ./.venv/lib/python3.12/site-packages (from matplotlib==3.10.0->-r requirements.txt (line 1)) (4.55.3)\n",
      "Requirement already satisfied: kiwisolver>=1.3.1 in ./.venv/lib/python3.12/site-packages (from matplotlib==3.10.0->-r requirements.txt (line 1)) (1.4.8)\n",
      "Requirement already satisfied: numpy>=1.23 in ./.venv/lib/python3.12/site-packages (from matplotlib==3.10.0->-r requirements.txt (line 1)) (2.2.1)\n",
      "Requirement already satisfied: packaging>=20.0 in ./.venv/lib/python3.12/site-packages (from matplotlib==3.10.0->-r requirements.txt (line 1)) (24.2)\n",
      "Requirement already satisfied: pillow>=8 in ./.venv/lib/python3.12/site-packages (from matplotlib==3.10.0->-r requirements.txt (line 1)) (11.1.0)\n",
      "Requirement already satisfied: pyparsing>=2.3.1 in ./.venv/lib/python3.12/site-packages (from matplotlib==3.10.0->-r requirements.txt (line 1)) (3.2.1)\n",
      "Requirement already satisfied: python-dateutil>=2.7 in ./.venv/lib/python3.12/site-packages (from matplotlib==3.10.0->-r requirements.txt (line 1)) (2.9.0.post0)\n",
      "Requirement already satisfied: pytz>=2020.1 in ./.venv/lib/python3.12/site-packages (from pandas==2.2.3->-r requirements.txt (line 2)) (2024.2)\n",
      "Requirement already satisfied: tzdata>=2022.7 in ./.venv/lib/python3.12/site-packages (from pandas==2.2.3->-r requirements.txt (line 2)) (2024.2)\n",
      "Requirement already satisfied: six>=1.5 in ./.venv/lib/python3.12/site-packages (from python-dateutil>=2.7->matplotlib==3.10.0->-r requirements.txt (line 1)) (1.17.0)\n"
     ]
    }
   ],
   "source": [
    "!pip install -r requirements.txt"
   ]
  },
  {
   "cell_type": "code",
   "execution_count": null,
   "metadata": {},
   "outputs": [
    {
     "name": "stdout",
     "output_type": "stream",
     "text": [
      "KL Divergence: inf\n",
      "KS Divergence: 0.387\n",
      "JS Divergence: 0.021436856521886302\n"
     ]
    },
    {
     "name": "stderr",
     "output_type": "stream",
     "text": [
      "/tmp/ipykernel_10980/1868324836.py:56: RuntimeWarning: divide by zero encountered in divide\n",
      "  kl_contributions = histogram_1 * np.log(histogram_1 / histogram_2)\n",
      "/tmp/ipykernel_10980/1868324836.py:56: RuntimeWarning: invalid value encountered in divide\n",
      "  kl_contributions = histogram_1 * np.log(histogram_1 / histogram_2)\n",
      "/tmp/ipykernel_10980/1868324836.py:56: RuntimeWarning: divide by zero encountered in log\n",
      "  kl_contributions = histogram_1 * np.log(histogram_1 / histogram_2)\n",
      "/tmp/ipykernel_10980/1868324836.py:56: RuntimeWarning: invalid value encountered in multiply\n",
      "  kl_contributions = histogram_1 * np.log(histogram_1 / histogram_2)\n",
      "/tmp/ipykernel_10980/1868324836.py:62: RuntimeWarning: invalid value encountered in divide\n",
      "  js_contributions_p = histogram_1 * np.log(histogram_1 / (0.5 * (histogram_1 + histogram_2)))\n",
      "/tmp/ipykernel_10980/1868324836.py:62: RuntimeWarning: divide by zero encountered in log\n",
      "  js_contributions_p = histogram_1 * np.log(histogram_1 / (0.5 * (histogram_1 + histogram_2)))\n",
      "/tmp/ipykernel_10980/1868324836.py:62: RuntimeWarning: invalid value encountered in multiply\n",
      "  js_contributions_p = histogram_1 * np.log(histogram_1 / (0.5 * (histogram_1 + histogram_2)))\n",
      "/tmp/ipykernel_10980/1868324836.py:63: RuntimeWarning: invalid value encountered in divide\n",
      "  js_contributions_q = histogram_2 * np.log(histogram_2 / (0.5 * (histogram_1 + histogram_2)))\n",
      "/tmp/ipykernel_10980/1868324836.py:63: RuntimeWarning: divide by zero encountered in log\n",
      "  js_contributions_q = histogram_2 * np.log(histogram_2 / (0.5 * (histogram_1 + histogram_2)))\n",
      "/tmp/ipykernel_10980/1868324836.py:63: RuntimeWarning: invalid value encountered in multiply\n",
      "  js_contributions_q = histogram_2 * np.log(histogram_2 / (0.5 * (histogram_1 + histogram_2)))\n"
     ]
    }
   ],
   "source": [
    "import pandas as pd\n",
    "import numpy as np\n",
    "import matplotlib.pyplot as plt\n",
    "from matplotlib.backends.backend_pdf import PdfPages\n",
    "from scipy.stats import entropy, ks_2samp\n",
    "\n",
    "def js_divergence(p, q):\n",
    "    m = 0.5 * (p + q)\n",
    "    return 0.5 * entropy(p, m) + 0.5 * entropy(q, m)\n",
    "\n",
    "np.random.seed(42)\n",
    "dist1 = np.random.normal(0, 1, 1000)  # Mean=0, Std=1\n",
    "dist2 = np.random.normal(1, 1.5, 1000)  # Mean=1, Std=1.5\n",
    "\n",
    "# dummy dataframe\n",
    "data = pd.DataFrame({\"dist1\": dist1, \"dist2\": dist2})\n",
    "\n",
    "histogram_1, edges1 = np.histogram(data[\"dist1\"], bins=50, density=True)\n",
    "histogram_2, edges2 = np.histogram(data[\"dist2\"], bins=50, density=True)\n",
    "\n",
    "# Normalize histograms\n",
    "bin_centers1 = 0.5 * (edges1[:-1] + edges1[1:])\n",
    "bin_centers2 = 0.5 * (edges2[:-1] + edges2[1:])\n",
    "\n",
    "kl_divergence = entropy(histogram_1, histogram_2)\n",
    "\n",
    "\n",
    "ks_divergence, _ = ks_2samp(data[\"dist1\"], data[\"dist2\"])\n",
    "\n",
    "js_divergence = js_divergence(histogram_1, histogram_2)\n",
    "\n",
    "# Print divergence values\n",
    "print(f\"KL Divergence: {kl_divergence}\")\n",
    "print(f\"KS Divergence: {ks_divergence}\")\n",
    "print(f\"JS Divergence: {js_divergence}\")\n",
    "\n",
    "# Create a PDF and save plots\n",
    "with PdfPages(\"divergence_plots.pdf\") as pdf:\n",
    "    plt.figure(figsize=(12, 8))\n",
    "\n",
    "    plt.subplot(2, 2, 1)\n",
    "    plt.hist(data[\"dist1\"], bins=50, density=True, alpha=0.7, label='Dist1', color='blue')\n",
    "    plt.hist(data[\"dist2\"], bins=50, density=True, alpha=0.7, label='Dist2', color='orange')\n",
    "    plt.title('Histogram of Distributions')\n",
    "    plt.legend()\n",
    "\n",
    "    cdf1 = np.cumsum(histogram_1) / np.sum(histogram_1)\n",
    "    cdf2 = np.cumsum(histogram_2) / np.sum(histogram_2)\n",
    "    plt.subplot(2, 2, 2)\n",
    "    plt.plot(bin_centers1, cdf1, label='CDF Dist1', color='blue')\n",
    "    plt.plot(bin_centers2, cdf2, label='CDF Dist2', color='orange')\n",
    "    plt.title('Cumulative Distribution Functions (CDF)')\n",
    "    plt.legend()\n",
    "\n",
    "    plt.subplot(2, 2, 3)\n",
    "    kl_contributions = histogram_1 * np.log(histogram_1 / histogram_2)\n",
    "    plt.bar(bin_centers1, kl_contributions, width=0.1, color='green', alpha=0.7)\n",
    "    plt.title('KL Divergence Contribution')\n",
    "    plt.axhline(0, color='black', linestyle='--', linewidth=0.5)\n",
    "\n",
    "    plt.subplot(2, 2, 4)\n",
    "    js_contributions_p = histogram_1 * np.log(histogram_1 / (0.5 * (histogram_1 + histogram_2)))\n",
    "    js_contributions_q = histogram_2 * np.log(histogram_2 / (0.5 * (histogram_1 + histogram_2)))\n",
    "    plt.bar(bin_centers1, js_contributions_p, width=0.1, alpha=0.7, label='P log(P/M)', color='blue')\n",
    "    plt.bar(bin_centers2, js_contributions_q, width=0.1, alpha=0.7, label='Q log(Q/M)', color='orange')\n",
    "    plt.title('JS Divergence Contribution')\n",
    "    plt.axhline(0, color='black', linestyle='--', linewidth=0.5)\n",
    "    plt.legend()\n",
    "\n",
    "    plt.tight_layout()\n",
    "    pdf.savefig()\n",
    "    plt.close()\n"
   ]
  },
  {
   "cell_type": "markdown",
   "metadata": {},
   "source": [
    "# fin."
   ]
  }
 ],
 "metadata": {
  "kernelspec": {
   "display_name": ".venv",
   "language": "python",
   "name": "python3"
  },
  "language_info": {
   "codemirror_mode": {
    "name": "ipython",
    "version": 3
   },
   "file_extension": ".py",
   "mimetype": "text/x-python",
   "name": "python",
   "nbconvert_exporter": "python",
   "pygments_lexer": "ipython3",
   "version": "3.12.1"
  }
 },
 "nbformat": 4,
 "nbformat_minor": 2
}
